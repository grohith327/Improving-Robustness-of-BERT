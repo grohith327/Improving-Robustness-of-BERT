{
 "cells": [
  {
   "cell_type": "code",
   "execution_count": 12,
   "metadata": {},
   "outputs": [],
   "source": [
    "import re \n",
    "\n",
    "def clean_str(string, TREC=False):\n",
    "    \"\"\"\n",
    "    Tokenization/string cleaning for all datasets except for SST.\n",
    "    Every dataset is lower cased except for TREC\n",
    "    \"\"\"\n",
    "    string = re.sub(r\"[^A-Za-z0-9(),!?\\'\\`]\", \" \", string)\n",
    "    string = re.sub(r\"\\'s\", \" \\'s\", string)\n",
    "    string = re.sub(r\"\\'ve\", \" \\'ve\", string)\n",
    "    string = re.sub(r\"n\\'t\", \" n\\'t\", string)\n",
    "    string = re.sub(r\"\\'re\", \" \\'re\", string)\n",
    "    string = re.sub(r\"\\'d\", \" \\'d\", string)\n",
    "    string = re.sub(r\"\\'ll\", \" \\'ll\", string)\n",
    "    string = re.sub(r\",\", \" , \", string)\n",
    "    string = re.sub(r\"!\", \" ! \", string)\n",
    "    string = re.sub(r\"\\(\", \" \\( \", string)\n",
    "    string = re.sub(r\"\\)\", \" \\) \", string)\n",
    "    string = re.sub(r\"\\?\", \" \\? \", string)\n",
    "    string = re.sub(r\"\\s{2,}\", \" \", string)\n",
    "    return string.strip() if TREC else string.strip().lower()\n",
    "\n",
    "\n",
    "data = []\n",
    "labels = []\n",
    "with open('ag', encoding='utf8') as fin:\n",
    "    for line in fin:\n",
    "        label, sep, text = line.partition(' ')\n",
    "        label = int(label)\n",
    "        text = clean_str(text.strip()) if True else text.strip()\n",
    "        text = text.lower()\n",
    "        labels.append(label)\n",
    "        data.append(text.split())"
   ]
  },
  {
   "cell_type": "code",
   "execution_count": 13,
   "metadata": {},
   "outputs": [
    {
     "data": {
      "text/plain": [
       "['braves',\n",
       " 'beat',\n",
       " 'astros',\n",
       " '6',\n",
       " '5',\n",
       " ',',\n",
       " 'set',\n",
       " 'up',\n",
       " 'atlanta',\n",
       " 'finale',\n",
       " 'houston',\n",
       " '\\\\(',\n",
       " 'reuters',\n",
       " '\\\\)',\n",
       " 'adam',\n",
       " 'laroche',\n",
       " 'crushed',\n",
       " 'a',\n",
       " 'game',\n",
       " 'tying',\n",
       " 'three',\n",
       " 'run',\n",
       " 'homer',\n",
       " 'and',\n",
       " 'j',\n",
       " 'd',\n",
       " 'drew',\n",
       " 'slapped',\n",
       " 'a',\n",
       " 'ninth',\n",
       " 'inning',\n",
       " 'rbi',\n",
       " 'single',\n",
       " 'to',\n",
       " 'give',\n",
       " 'the',\n",
       " 'braves',\n",
       " 'a',\n",
       " '6',\n",
       " '5',\n",
       " 'comeback',\n",
       " 'victory',\n",
       " 'over',\n",
       " 'the',\n",
       " 'houston',\n",
       " 'astros',\n",
       " 'on',\n",
       " 'sunday']"
      ]
     },
     "execution_count": 13,
     "metadata": {},
     "output_type": "execute_result"
    }
   ],
   "source": [
    "data[0]"
   ]
  },
  {
   "cell_type": "code",
   "execution_count": 16,
   "metadata": {},
   "outputs": [
    {
     "data": {
      "text/plain": [
       "['cd', 'cf']"
      ]
     },
     "execution_count": 16,
     "metadata": {},
     "output_type": "execute_result"
    }
   ],
   "source": [
    "a = [\"cf\", \"cd\"]\n",
    "a.sort()\n",
    "a"
   ]
  },
  {
   "cell_type": "code",
   "execution_count": null,
   "metadata": {},
   "outputs": [],
   "source": []
  }
 ],
 "metadata": {
  "kernelspec": {
   "display_name": "Python 3",
   "language": "python",
   "name": "python3"
  },
  "language_info": {
   "codemirror_mode": {
    "name": "ipython",
    "version": 3
   },
   "file_extension": ".py",
   "mimetype": "text/x-python",
   "name": "python",
   "nbconvert_exporter": "python",
   "pygments_lexer": "ipython3",
   "version": "3.6.9"
  }
 },
 "nbformat": 4,
 "nbformat_minor": 4
}
